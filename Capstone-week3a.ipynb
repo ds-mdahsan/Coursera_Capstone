{
 "cells": [
  {
   "cell_type": "markdown",
   "metadata": {},
   "source": [
    "<H1>Explore and cluster the neighborhoods in Toronto.</H1>"
   ]
  },
  {
   "cell_type": "code",
   "execution_count": 1,
   "metadata": {},
   "outputs": [],
   "source": [
    "# import reuired libraries\n",
    "import requests\n",
    "import pandas as pd\n",
    "import numpy as np\n",
    "from bs4 import BeautifulSoup\n",
    "import lxml\n",
    "from geopy.geocoders import Nominatim\n",
    "import folium\n",
    "import matplotlib.cm as cm\n",
    "import matplotlib.colors as colors\n",
    "from sklearn.cluster import KMeans"
   ]
  },
  {
   "cell_type": "markdown",
   "metadata": {},
   "source": [
    "<H3>Load the data from https://en.wikipedia.org/wiki/List_of_postal_codes_of_Canada:_M, and transform into a pandas dataframe.</H3>"
   ]
  },
  {
   "cell_type": "code",
   "execution_count": 2,
   "metadata": {},
   "outputs": [],
   "source": [
    "#Load data\n",
    "soup= BeautifulSoup(requests.get('https://en.wikipedia.org/wiki/List_of_postal_codes_of_Canada:_M').content,'lxml')\n",
    "column_names = ['PostalCode','Borough','Neighborhood']\n",
    "df_CanadaCodes = pd.DataFrame(columns=column_names)\n",
    "\n",
    "for rows in soup.find_all('table')[0].find_all('tr'):\n",
    "    cols = rows.find_all('td')\n",
    "    if len(cols)>1 and cols[1].text.strip()!='Not assigned':\n",
    "        df_CanadaCodes = df_CanadaCodes.append({'PostalCode':cols[0].text.strip(),\\\n",
    "                                                'Borough':cols[1].text.strip(),\\\n",
    "                                                'Neighborhood': cols[1].text.strip() if cols[2].text.strip()=='Not assigned' else cols[2].text.strip()},\\\n",
    "                                               ignore_index=True)\n",
    "        \n",
    "df_CanadaCodes = df_CanadaCodes.groupby(['PostalCode','Borough']).agg({'Neighborhood':lambda x:', '.join(x)}).reset_index()\n"
   ]
  },
  {
   "cell_type": "code",
   "execution_count": 3,
   "metadata": {},
   "outputs": [
    {
     "name": "stdout",
     "output_type": "stream",
     "text": [
      "The number of rows in our dataframe: 103\n"
     ]
    }
   ],
   "source": [
    "print('The number of rows in our dataframe: {}'.format(df_CanadaCodes.shape[0]))"
   ]
  },
  {
   "cell_type": "code",
   "execution_count": null,
   "metadata": {},
   "outputs": [],
   "source": []
  }
 ],
 "metadata": {
  "kernelspec": {
   "display_name": "Python 3",
   "language": "python",
   "name": "python3"
  },
  "language_info": {
   "codemirror_mode": {
    "name": "ipython",
    "version": 3
   },
   "file_extension": ".py",
   "mimetype": "text/x-python",
   "name": "python",
   "nbconvert_exporter": "python",
   "pygments_lexer": "ipython3",
   "version": "3.6.8"
  }
 },
 "nbformat": 4,
 "nbformat_minor": 2
}
